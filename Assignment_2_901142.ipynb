{
  "nbformat": 4,
  "nbformat_minor": 0,
  "metadata": {
    "colab": {
      "provenance": [],
      "authorship_tag": "ABX9TyOP+ZfFQ60UWYaV/nHr6tWQ",
      "include_colab_link": true
    },
    "kernelspec": {
      "name": "python3",
      "display_name": "Python 3"
    },
    "language_info": {
      "name": "python"
    }
  },
  "cells": [
    {
      "cell_type": "markdown",
      "metadata": {
        "id": "view-in-github",
        "colab_type": "text"
      },
      "source": [
        "<a href=\"https://colab.research.google.com/github/roshandroids/python_assignment/blob/main/Assignment_2_901142.ipynb\" target=\"_parent\"><img src=\"https://colab.research.google.com/assets/colab-badge.svg\" alt=\"Open In Colab\"/></a>"
      ]
    },
    {
      "cell_type": "markdown",
      "source": [
        "Create a vehicle class with an init method having instance variables as name_of_vehicle, max_speed and average_of_vehicle."
      ],
      "metadata": {
        "id": "95rv7QluwH0N"
      }
    },
    {
      "cell_type": "code",
      "source": [
        "class Vehicle:\n",
        "    def __init__(self, name_of_vehicle, max_speed, average_of_vehicle):\n",
        "        self.name = name_of_vehicle\n",
        "        self.speed = max_speed\n",
        "        self.average = average_of_vehicle"
      ],
      "metadata": {
        "id": "8QZBHs5iwGZB"
      },
      "execution_count": null,
      "outputs": []
    },
    {
      "cell_type": "markdown",
      "source": [
        "Create a child class car from the vehicle class created in Que 1, which will inherit the vehicle class. Create a method named seating_capacity which takes capacity as an argument and returns the name of the vehicle and its seating capacity."
      ],
      "metadata": {
        "id": "D8V1eevvwMl4"
      }
    },
    {
      "cell_type": "code",
      "source": [
        "class Car(Vehicle):\n",
        "    def seating_capacity(self, capacity):\n",
        "        return f\"The mentioned {self.name} has total seating capacity of {capacity}\""
      ],
      "metadata": {
        "id": "iVNiAZJTwPKg"
      },
      "execution_count": null,
      "outputs": []
    },
    {
      "cell_type": "markdown",
      "source": [
        "What is multiple inheritance? Write a python code to demonstrate multiple inheritance."
      ],
      "metadata": {
        "id": "0lxp8b3uwRc0"
      }
    },
    {
      "cell_type": "markdown",
      "source": [
        "Multiple inheritance is a concept in Object-oriented Programming which allow a child class to inhertiance the feature or functionality of the parent class. In multiple inheritance a child class can inherit the methods from multiple classes."
      ],
      "metadata": {
        "id": "3utsu0zNwVkK"
      }
    },
    {
      "cell_type": "code",
      "source": [
        "\n",
        "class Lights:\n",
        "    def blinkers(self):\n",
        "        return \"Blinkers turned on\"\n",
        "\n",
        "\n",
        "class Engine:\n",
        "    def make_sound(self):\n",
        "        return \"Engine started.\"\n",
        "\n",
        "\n",
        "class Wheels:\n",
        "    def rotate(self):\n",
        "        return \"Wheels rotating.\"\n",
        "\n",
        "\n",
        "class Car(Engine, Wheels, Lights):\n",
        "    def __init__(self, make, model):\n",
        "        self.make = make\n",
        "        self.model = model\n",
        "\n",
        "    def start(self):\n",
        "        engine_message = super().make_sound()\n",
        "        return f\"{engine_message} The {self.make} {self.model} is ready to go.\"\n",
        "\n",
        "    def drive(self):\n",
        "        wheels_message = super().rotate()\n",
        "        return f\"{wheels_message} The {self.make} {self.model} is moving.\"\n",
        "\n",
        "    def turn_left(self):\n",
        "        lights_status = super.blinkers()\n",
        "        return f\"{lights_status} while making turn.\"\n",
        "\n",
        "\n",
        "my_car = Car(\"Honda\", \"Civic\")\n",
        "\n",
        "print(my_car.start())\n",
        "print(my_car.drive())\n",
        "print(my_car.turn_left())"
      ],
      "metadata": {
        "id": "KS_5M4A7wabW"
      },
      "execution_count": null,
      "outputs": []
    },
    {
      "cell_type": "markdown",
      "source": [
        "Q4. Assignment: Python Object-Oriented Programming Concepts\n",
        "Objective: To create Python classes implementing the concepts of polymorphism, encapsulation,\n",
        "constructors, and inheritance."
      ],
      "metadata": {
        "id": "fW3vKJ76222o"
      }
    },
    {
      "cell_type": "markdown",
      "source": [
        "Task 1: Create a Python Class\n",
        "Create a class called Person with the following:\n",
        "1. Properties: name, age, gender\n",
        "2. A constructor to initialize these properties.\n",
        "3. Methods: say_hello(), which prints out a greeting from the person; and is_adult(), which returns\n",
        "True if the person is 18 or above, and False otherwise."
      ],
      "metadata": {
        "id": "q5EWoV-528nY"
      }
    },
    {
      "cell_type": "code",
      "source": [
        "\n",
        "class Person:\n",
        "    def __init__(self, name, age, gender):\n",
        "        self.name = name\n",
        "        self.age = age\n",
        "        self.gender = gender\n",
        "\n",
        "    def say_hello(self):\n",
        "        return f\"Greetings from {self.name}\"\n",
        "\n",
        "    def is_adult(self):\n",
        "        return self.age >= 18"
      ],
      "metadata": {
        "id": "OOD6TYoO29Ut"
      },
      "execution_count": null,
      "outputs": []
    },
    {
      "cell_type": "markdown",
      "source": [
        "Create a subclass called Student that inherits from the Person class. The Student class should have the\n",
        "following additional properties:\n",
        "1. student_id\n",
        "2. course\n",
        "Create appropriate methods as you deem necessary."
      ],
      "metadata": {
        "id": "Xfpkqfji3EdM"
      }
    },
    {
      "cell_type": "code",
      "source": [
        "class Student(Person):\n",
        "    def __init__(self, student_id, course):\n",
        "        self.id = student_id\n",
        "        self.course = course\n",
        "\n",
        "    def display_detail(self):\n",
        "        return f\"The student with {self.id} is enrolled in {self.course} course.\""
      ],
      "metadata": {
        "id": "WkN2FQco3JIr"
      },
      "execution_count": null,
      "outputs": []
    },
    {
      "cell_type": "markdown",
      "source": [
        "Task 3: Implement Polymorphism\n",
        "Create another subclass called Teacher that also inherits from the Person class. The Teacher class should\n",
        "have the following additional properties:\n",
        "1. teacher_id\n",
        "2. subject\n",
        "Ensure that the say_hello() method for the Teacher class is different from the one for\n",
        "the Person and Student classes. This will demonstrate polymorphism."
      ],
      "metadata": {
        "id": "MN3a1YQq3Ld5"
      }
    },
    {
      "cell_type": "code",
      "source": [
        "class Teacher(Person):\n",
        "    def __init__(self, teacher_id, subject):\n",
        "        self.id = teacher_id\n",
        "        self.subject = subject\n",
        "\n",
        "    def display_info(self):\n",
        "        return f\"The teacher with {self.id} ID, will be facilitating for subject {self.subject}\"\n",
        "\n",
        "    def say_hello(self):\n",
        "        return f\"Greetings from professor of {self.subject} subject\"\n",
        "\n",
        "\n",
        "person = Person(\"Alice\", 25, \"Female\")\n",
        "student = Student(\"S12345\", \"Computer Science\")\n",
        "teacher = Teacher(\"T7890\", \"Mathematics\")"
      ],
      "metadata": {
        "id": "Z4V2PDd64_MM"
      },
      "execution_count": null,
      "outputs": []
    },
    {
      "cell_type": "markdown",
      "source": [
        "Task 4: Encapsulation\n",
        "Make the age property in the Person class private and create a method to allow access to it. This is an\n",
        "example of encapsulation, as it restricts direct access to the age property."
      ],
      "metadata": {
        "id": "Wpcqhw9K5r9j"
      }
    },
    {
      "cell_type": "code",
      "source": [
        "class Person:\n",
        "    def __init__(self, name, age, gender):\n",
        "        self.name = name\n",
        "        self.__age = age\n",
        "        self.gender = gender\n",
        "\n",
        "    def say_hello(self):\n",
        "        return f\"Greetings from {self.name}\"\n",
        "\n",
        "    def is_adult(self):\n",
        "        return self.__age >= 18\n",
        "\n",
        "\n",
        "person = Person(\"Alice\", 25, \"Female\")"
      ],
      "metadata": {
        "id": "cUXf55ry5sqS"
      },
      "execution_count": null,
      "outputs": []
    }
  ]
}